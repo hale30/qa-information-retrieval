{
 "cells": [
  {
   "cell_type": "code",
   "metadata": {
    "colab": {
     "base_uri": "https://localhost:8080/"
    },
    "collapsed": true,
    "id": "BFwka32HaA_n",
    "outputId": "a5663bb1-0a1f-4077-8092-33c0a4be38d1",
    "ExecuteTime": {
     "end_time": "2025-03-23T13:49:54.001071Z",
     "start_time": "2025-03-23T13:49:53.996069Z"
    }
   },
   "source": [
    "# import torch.cuda\n",
    "# !pip install transformers accelerate torch\n",
    "# !pip install sentence_transformers\n",
    "# !pip install langchain\n",
    "# !pip install chromadb\n",
    "# !pip install pypdf\n",
    "# !pip install PyMuPDF\n",
    "# !pip install langchain_community"
   ],
   "outputs": [],
   "execution_count": 1
  },
  {
   "metadata": {
    "ExecuteTime": {
     "end_time": "2025-03-23T13:49:57.787808Z",
     "start_time": "2025-03-23T13:49:54.041707Z"
    }
   },
   "cell_type": "code",
   "source": [
    "import os\n",
    "\n",
    "os.environ['HF_HOME'] = '/mnt/data/thomas/.cache' #Used to change where to save model. Uncomment this if you want to use default location\n",
    "# os.environ['CUDA_VISIBLE_DEVICES'] = '0,1'\n",
    "import torch"
   ],
   "outputs": [],
   "execution_count": 2
  },
  {
   "metadata": {},
   "cell_type": "code",
   "outputs": [],
   "execution_count": null,
   "source": [
    "# !pip install -q huggingface_hub\n",
    "# from huggingface_hub import notebook_login\n",
    "#\n",
    "# notebook_login()"
   ]
  },
  {
   "cell_type": "code",
   "metadata": {
    "colab": {
     "base_uri": "https://localhost:8080/",
     "height": 17,
     "referenced_widgets": [
      "6cc3cb678af4451790ee321a01a0bc10",
      "7e419cfb59da404f90f6e678ddb0d8d0",
      "869d2682f81c4770b250d77223a35008",
      "20d25e64ac7149c49911413258e7950d",
      "e6e1817219374ee0a8fba015bebdb82e",
      "daab030521cd433c9dd035f742221b12",
      "051957a367924c9b91ea427fa7e2e950",
      "09a14e36257443cbbf51de87477eb798",
      "fa8c7d1b10a84a5da93d2a599bb31cc7",
      "183c3ffde9194827ab84fc2ca2a3ed43",
      "bd7f875e47784bae9ee1d14fc6f2862c",
      "6cce5bf57d464d0db2f04e6226eb5c8e",
      "d0ed6e543acc4f2da803a6e001743ac8",
      "cb198904c2fe444292e8d71a392fb1a3",
      "d34a0144f8ee4e06aab10497ea6b1ce2",
      "53fa6972a69549389b3d7dc76b0453a8",
      "afc3c103240f416e91d6310075cc8ebc",
      "2b4a6fa1986b49cc8ce2b08c1ddb6633",
      "e47024d005cc4dfc9a7623764b0912af",
      "f082ea5df9b4462c91ca0aba48b6ca56"
     ]
    },
    "id": "1hyBpSdWbQKE",
    "outputId": "c099e628-0839-46f1-ccb9-97362183ff5e",
    "ExecuteTime": {
     "end_time": "2025-03-23T13:50:05.982259Z",
     "start_time": "2025-03-23T13:49:58.036889Z"
    }
   },
   "source": [
    "import fitz\n",
    "import re\n",
    "from langchain.text_splitter import RecursiveCharacterTextSplitter\n",
    "from langchain.vectorstores import Chroma\n",
    "# from langchain.embeddings import HuggingFaceEmbeddings\n",
    "from langchain.docstore.document import Document\n",
    "from sentence_transformers import SentenceTransformer\n",
    "from transformers import AutoTokenizer, AutoModelForCausalLM, pipeline, AutoModel\n",
    "from langchain_huggingface import HuggingFaceEmbeddings"
   ],
   "outputs": [],
   "execution_count": 3
  },
  {
   "metadata": {
    "ExecuteTime": {
     "end_time": "2025-03-23T13:50:06.007818Z",
     "start_time": "2025-03-23T13:50:06.000202Z"
    }
   },
   "cell_type": "code",
   "source": [
    "# === Step 1: Load and clean PDF ===\n",
    "def load_and_clean_pdf(pdf_path):\n",
    "    doc = fitz.open(pdf_path)\n",
    "    exact_removal = {\n",
    "        \"Fulbright University Vietnam Ground Floor, 105 Ton Dat Tien, Tan Phu, Quan 7, Ho Chi Minh City\"\n",
    "    }\n",
    "\n",
    "    all_paragraphs = []\n",
    "\n",
    "    for i, page in enumerate(doc):\n",
    "        raw_paragraphs = [p.strip() for p in page.get_text().split(\"\\n\") if p.strip()]\n",
    "        filtered = []\n",
    "\n",
    "        for p in raw_paragraphs:\n",
    "            if p in exact_removal:\n",
    "                continue\n",
    "            if p.isdigit():\n",
    "                continue\n",
    "            if p.lower().startswith(\"internal\"):\n",
    "                continue\n",
    "            if re.match(r\"^\\d+\\s*\\|\\s*Page$\", p):\n",
    "                continue\n",
    "            if re.match(r\"^Page\\s+\\d+\\s+of\\s+\\d+\", p, re.IGNORECASE):\n",
    "                continue\n",
    "            filtered.append(p)\n",
    "\n",
    "        if i > 0 and filtered:\n",
    "            first_word = filtered[0].split()[0] if filtered[0].split() else \"\"\n",
    "            if first_word and not first_word[0].isupper():\n",
    "                all_paragraphs[-1] += \" \" + filtered[0]\n",
    "                filtered = filtered[1:]\n",
    "\n",
    "        all_paragraphs.extend(filtered)\n",
    "\n",
    "    return all_paragraphs"
   ],
   "outputs": [],
   "execution_count": 4
  },
  {
   "metadata": {
    "ExecuteTime": {
     "end_time": "2025-03-23T13:50:06.041319Z",
     "start_time": "2025-03-23T13:50:06.037068Z"
    }
   },
   "cell_type": "code",
   "source": [
    "# === Step 2: Chunk text ===\n",
    "def chunk_paragraphs(paragraphs):\n",
    "    splitter = RecursiveCharacterTextSplitter(chunk_size=1024, chunk_overlap=100)\n",
    "    return splitter.split_text(\"\\n\\n\".join(paragraphs))\n",
    "\n"
   ],
   "outputs": [],
   "execution_count": 5
  },
  {
   "metadata": {
    "colab": {
     "base_uri": "https://localhost:8080/"
    },
    "id": "SV6MSLskZnZg",
    "outputId": "e031d5bb-aee6-4dab-fae7-a91f0d0832d1",
    "ExecuteTime": {
     "end_time": "2025-03-23T13:50:06.103181Z",
     "start_time": "2025-03-23T13:50:06.097162Z"
    }
   },
   "cell_type": "code",
   "source": [
    "# === Step 3: Build vector store ===\n",
    "def build_vectorstore(chunks, persist_path=\"./chroma_fulbright2\"):\n",
    "    documents = [Document(page_content=chunk) for chunk in chunks]\n",
    "    print(type(documents[0]))\n",
    "    embedding_model = HuggingFaceEmbeddings(model_name=\"Alibaba-NLP/gte-multilingual-base\")\n",
    "    # model_name_or_path = \"Alibaba-NLP/gte-multilingual-base\"\n",
    "    # tokenizer = AutoTokenizer.from_pretrained(model_name_or_path)\n",
    "    # model = AutoModel.from_pretrained(model_name_or_path, trust_remote_code=True)\n",
    "    vectorstore = Chroma.from_documents(\n",
    "        documents=documents,\n",
    "        embedding=embedding_model,\n",
    "        persist_directory=persist_path\n",
    "    )\n",
    "    vectorstore.persist()\n",
    "    return vectorstore\n"
   ],
   "outputs": [],
   "execution_count": 6
  },
  {
   "metadata": {
    "ExecuteTime": {
     "end_time": "2025-03-23T15:00:57.719047Z",
     "start_time": "2025-03-23T15:00:57.707830Z"
    }
   },
   "cell_type": "code",
   "source": [
    "# === Step 4: Load local LLM ===\n",
    "def load_local_llm(model_id=\"Qwen/Qwen2.5-7B-Instruct-1M\"):\n",
    "    tokenizer = AutoTokenizer.from_pretrained(model_id, timeout=60)\n",
    "    model = AutoModelForCausalLM.from_pretrained(\n",
    "        model_id,\n",
    "        torch_dtype=\"auto\",\n",
    "        device_map=\"auto\"\n",
    "    )\n",
    "    pipe = pipeline(\"text-generation\", model=model, tokenizer=tokenizer)\n",
    "    return pipe\n",
    "\n",
    "# === Step 5: Ask questions ===\n",
    "def ask_question(llm_pipe, vectorstore, query, top_k=3):\n",
    "    docs = vectorstore.similarity_search(query, k=top_k)\n",
    "    context = \"\\n\\n\".join([doc.page_content for doc in docs])\n",
    "\n",
    "    prompt = f\"\"\"Answer the question based on the following context:\\n\\n{context}\\n\\nQuestion: {query}\\nAnswer:\"\"\"\n",
    "\n",
    "    print(\"\\n=== PROMPT ===\\n\", prompt)\n",
    "\n",
    "    response = llm_pipe(prompt, max_new_tokens=300, do_sample=True, temperature=0.7)[0][\"generated_text\"]\n",
    "    print(\"\\n=== RESPONSE ===\\n\", response[len(prompt):].strip())\n"
   ],
   "outputs": [],
   "execution_count": 12
  },
  {
   "metadata": {
    "jupyter": {
     "is_executing": true
    },
    "ExecuteTime": {
     "start_time": "2025-03-23T15:08:27.203103Z"
    }
   },
   "cell_type": "code",
   "source": [
    "# === Main ===\n",
    "def main():\n",
    "    pdf_path = \"../data/Academic-Policy_V5.1.pdf\" #Change the data path\n",
    "    paragraphs = load_and_clean_pdf(pdf_path)\n",
    "    chunks = chunk_paragraphs(paragraphs)\n",
    "    vectorstore = build_vectorstore(chunks)\n",
    "\n",
    "    print(\"✅ Vectorstore built and persisted.\")\n",
    "\n",
    "    llm_pipe = load_local_llm()\n",
    "\n",
    "    list_questions = []\n",
    "    list_questions.append(\"Can you differentiate a cross-listed course and elective applied course in the case of a double major?\")\n",
    "    list_questions.append(\"I would like to ask for the capstone withdrawal policy. What will be the impact when I choose to drop the capstone before the Fall 2025 term starts? Will there be any penalties associated with withdrawing, such as a 'W' notation on my transcript?\")\n",
    "    list_questions.append(\"Does withdrawal from a course after 4th week result in a 4 credits deduction in the total credits covered by financial aid?\")\n",
    "    list_questions.append(\"What are the consequences if I withdraw from capstone II?\")\n",
    "    list_questions.append(\"Can I continue my study for more than 4 years with financial aid?\")\n",
    "    list_questions.append(\"How many courses can be double counted between two majors? And among three majors?\")\n",
    "    list_questions.append(\"Can a student with relationship breakdown request special considerations for their course’s assessment?\")\n",
    "    list_questions.append(\"How is grade calculated for a retaken course?\")\n",
    "    for question in list_questions:\n",
    "        ask_question(llm_pipe, vectorstore, question)\n",
    "\n",
    "if __name__ == \"__main__\":\n",
    "    main()"
   ],
   "outputs": [
    {
     "name": "stdout",
     "output_type": "stream",
     "text": [
      "<class 'langchain_core.documents.base.Document'>\n"
     ]
    },
    {
     "name": "stderr",
     "output_type": "stream",
     "text": [
      "Some weights of the model checkpoint at Alibaba-NLP/gte-multilingual-base were not used when initializing NewModel: {'classifier.weight', 'classifier.bias'}\n",
      "- This IS expected if you are initializing NewModel from the checkpoint of a model trained on another task or with another architecture (e.g. initializing a BertForSequenceClassification model from a BertForPreTraining model).\n",
      "- This IS NOT expected if you are initializing NewModel from the checkpoint of a model that you expect to be exactly identical (initializing a BertForSequenceClassification model from a BertForSequenceClassification model).\n"
     ]
    },
    {
     "name": "stdout",
     "output_type": "stream",
     "text": [
      "✅ Vectorstore built and persisted.\n"
     ]
    },
    {
     "data": {
      "text/plain": [
       "Loading checkpoint shards:   0%|          | 0/4 [00:00<?, ?it/s]"
      ],
      "application/vnd.jupyter.widget-view+json": {
       "version_major": 2,
       "version_minor": 0,
       "model_id": "99c6d097ad2647caab8f9d1de6e2365a"
      }
     },
     "metadata": {},
     "output_type": "display_data"
    },
    {
     "name": "stderr",
     "output_type": "stream",
     "text": [
      "Some parameters are on the meta device because they were offloaded to the cpu.\n",
      "Device set to use cuda:0\n"
     ]
    },
    {
     "name": "stdout",
     "output_type": "stream",
     "text": [
      "\n",
      "=== PROMPT ===\n",
      " Answer the question based on the following context:\n",
      "\n",
      "and minor) and does not restrict the total number of double-counted\n",
      "\n",
      "credits or courses a student can claim. For example, a student can major in\n",
      "\n",
      "both A and B and minor in C with a total of 6 double-counted courses: two\n",
      "\n",
      "in A and B, two in B and C, and two in A and C. This rule does not apply to\n",
      "\n",
      "courses that are not cross-listed or tagged. For instance, if major A requires\n",
      "\n",
      "certain courses from major B for out-of-area foundation, exploration, or\n",
      "\n",
      "applications of the major, and these courses are not cross-listed between A\n",
      "\n",
      "and B, they do not count toward the 8-credit limit.\n",
      "\n",
      "1 In interdisciplinary minors, the requirements mainly consist of courses from other majors.\n",
      "\n",
      "These courses are usually not cross-listed with the minors and are referred to as 'tagged' by\n",
      "\n",
      "these minors. 13.4  Experiential Learning Requirements\n",
      "\n",
      "Experiential Learning can count toward elective or major requirements\n",
      "\n",
      "(upon advisor approval). Fulbright’s Experiential Learning Program (ELP)\n",
      "\n",
      "and minor) and does not restrict the total number of double-counted\n",
      "\n",
      "credits or courses a student can claim. For example, a student can major in\n",
      "\n",
      "both A and B and minor in C with a total of 6 double-counted courses: two\n",
      "\n",
      "in A and B, two in B and C, and two in A and C. This rule does not apply to\n",
      "\n",
      "courses that are not cross-listed or tagged. For instance, if major A requires\n",
      "\n",
      "certain courses from major B for out-of-area foundation, exploration, or\n",
      "\n",
      "applications of the major, and these courses are not cross-listed between A\n",
      "\n",
      "and B, they do not count toward the 8-credit limit.\n",
      "\n",
      "1 In interdisciplinary minors, the requirements mainly consist of courses from other majors.\n",
      "\n",
      "These courses are usually not cross-listed with the minors and are referred to as 'tagged' by\n",
      "\n",
      "these minors. 13.4  Experiential Learning Requirements\n",
      "\n",
      "Experiential Learning can count toward elective or major requirements\n",
      "\n",
      "(upon advisor approval). Fulbright’s Experiential Learning Program (ELP)\n",
      "\n",
      "and minor) and does not restrict the total number of double-counted\n",
      "\n",
      "credits or courses a student can claim. For example, a student can major in\n",
      "\n",
      "both A and B and minor in C with a total of 6 double-counted courses: two\n",
      "\n",
      "in A and B, two in B and C, and two in A and C. This rule does not apply to\n",
      "\n",
      "courses that are not cross-listed or tagged. For instance, if major A requires\n",
      "\n",
      "certain courses from major B for out-of-area foundation, exploration, or\n",
      "\n",
      "applications of the major, and these courses are not cross-listed between A\n",
      "\n",
      "and B, they do not count toward the 8-credit limit.\n",
      "\n",
      "1 In interdisciplinary minors, the requirements mainly consist of courses from other majors.\n",
      "\n",
      "These courses are usually not cross-listed with the minors and are referred to as 'tagged' by\n",
      "\n",
      "these minors. 13.4  Experiential Learning Requirements\n",
      "\n",
      "Experiential Learning can count toward elective or major requirements\n",
      "\n",
      "(upon advisor approval). Fulbright’s Experiential Learning Program (ELP)\n",
      "\n",
      "Question: Can you differentiate a cross-listed course and elective applied course in the case of a double major?\n",
      "Answer:\n"
     ]
    }
   ],
   "execution_count": null
  },
  {
   "cell_type": "code",
   "metadata": {
    "colab": {
     "base_uri": "https://localhost:8080/"
    },
    "id": "8XYMAdLraT8A",
    "outputId": "9cc6fe93-e2fa-49f9-e315-c12199d83eaf",
    "ExecuteTime": {
     "end_time": "2025-03-23T13:51:03.090070Z",
     "start_time": "2025-03-23T13:51:01.156720Z"
    }
   },
   "source": [
    "!zip -r chroma_fulbright.zip chroma_fulbright/"
   ],
   "outputs": [
    {
     "name": "stderr",
     "output_type": "stream",
     "text": [
      "huggingface/tokenizers: The current process just got forked, after parallelism has already been used. Disabling parallelism to avoid deadlocks...\n",
      "To disable this warning, you can either:\n",
      "\t- Avoid using `tokenizers` before the fork if possible\n",
      "\t- Explicitly set the environment variable TOKENIZERS_PARALLELISM=(true | false)\n"
     ]
    },
    {
     "name": "stdout",
     "output_type": "stream",
     "text": [
      "  adding: chroma_fulbright/ (stored 0%)\r\n",
      "  adding: chroma_fulbright/b71b0971-1fd1-4d91-a078-b7c85d8ca9e1/ (stored 0%)\r\n",
      "  adding: chroma_fulbright/b71b0971-1fd1-4d91-a078-b7c85d8ca9e1/header.bin (deflated 61%)\r\n",
      "  adding: chroma_fulbright/b71b0971-1fd1-4d91-a078-b7c85d8ca9e1/length.bin (deflated 34%)\r\n",
      "  adding: chroma_fulbright/b71b0971-1fd1-4d91-a078-b7c85d8ca9e1/link_lists.bin (stored 0%)\r\n",
      "  adding: chroma_fulbright/b71b0971-1fd1-4d91-a078-b7c85d8ca9e1/data_level0.bin (deflated 41%)\r\n",
      "  adding: chroma_fulbright/chroma.sqlite3 (deflated 62%)\r\n"
     ]
    }
   ],
   "execution_count": 8
  },
  {
   "cell_type": "code",
   "metadata": {
    "id": "yYrqh9zFgftK",
    "ExecuteTime": {
     "end_time": "2025-03-23T13:51:03.121635Z",
     "start_time": "2025-03-23T13:51:03.116955Z"
    }
   },
   "source": [],
   "outputs": [],
   "execution_count": null
  }
 ],
 "metadata": {
  "accelerator": "GPU",
  "colab": {
   "gpuType": "T4",
   "provenance": []
  },
  "kernelspec": {
   "display_name": "Python 3 (ipykernel)",
   "name": "python3",
   "language": "python"
  },
  "language_info": {
   "name": "python"
  },
  "widgets": {
   "application/vnd.jupyter.widget-state+json": {
    "051957a367924c9b91ea427fa7e2e950": {
     "model_module": "@jupyter-widgets/base",
     "model_module_version": "1.2.0",
     "model_name": "LayoutModel",
     "state": {
      "_model_module": "@jupyter-widgets/base",
      "_model_module_version": "1.2.0",
      "_model_name": "LayoutModel",
      "_view_count": null,
      "_view_module": "@jupyter-widgets/base",
      "_view_module_version": "1.2.0",
      "_view_name": "LayoutView",
      "align_content": null,
      "align_items": "center",
      "align_self": null,
      "border": null,
      "bottom": null,
      "display": "flex",
      "flex": null,
      "flex_flow": "column",
      "grid_area": null,
      "grid_auto_columns": null,
      "grid_auto_flow": null,
      "grid_auto_rows": null,
      "grid_column": null,
      "grid_gap": null,
      "grid_row": null,
      "grid_template_areas": null,
      "grid_template_columns": null,
      "grid_template_rows": null,
      "height": null,
      "justify_content": null,
      "justify_items": null,
      "left": null,
      "margin": null,
      "max_height": null,
      "max_width": null,
      "min_height": null,
      "min_width": null,
      "object_fit": null,
      "object_position": null,
      "order": null,
      "overflow": null,
      "overflow_x": null,
      "overflow_y": null,
      "padding": null,
      "right": null,
      "top": null,
      "visibility": null,
      "width": "50%"
     }
    },
    "09a14e36257443cbbf51de87477eb798": {
     "model_module": "@jupyter-widgets/base",
     "model_module_version": "1.2.0",
     "model_name": "LayoutModel",
     "state": {
      "_model_module": "@jupyter-widgets/base",
      "_model_module_version": "1.2.0",
      "_model_name": "LayoutModel",
      "_view_count": null,
      "_view_module": "@jupyter-widgets/base",
      "_view_module_version": "1.2.0",
      "_view_name": "LayoutView",
      "align_content": null,
      "align_items": null,
      "align_self": null,
      "border": null,
      "bottom": null,
      "display": null,
      "flex": null,
      "flex_flow": null,
      "grid_area": null,
      "grid_auto_columns": null,
      "grid_auto_flow": null,
      "grid_auto_rows": null,
      "grid_column": null,
      "grid_gap": null,
      "grid_row": null,
      "grid_template_areas": null,
      "grid_template_columns": null,
      "grid_template_rows": null,
      "height": null,
      "justify_content": null,
      "justify_items": null,
      "left": null,
      "margin": null,
      "max_height": null,
      "max_width": null,
      "min_height": null,
      "min_width": null,
      "object_fit": null,
      "object_position": null,
      "order": null,
      "overflow": null,
      "overflow_x": null,
      "overflow_y": null,
      "padding": null,
      "right": null,
      "top": null,
      "visibility": null,
      "width": null
     }
    },
    "183c3ffde9194827ab84fc2ca2a3ed43": {
     "model_module": "@jupyter-widgets/base",
     "model_module_version": "1.2.0",
     "model_name": "LayoutModel",
     "state": {
      "_model_module": "@jupyter-widgets/base",
      "_model_module_version": "1.2.0",
      "_model_name": "LayoutModel",
      "_view_count": null,
      "_view_module": "@jupyter-widgets/base",
      "_view_module_version": "1.2.0",
      "_view_name": "LayoutView",
      "align_content": null,
      "align_items": null,
      "align_self": null,
      "border": null,
      "bottom": null,
      "display": null,
      "flex": null,
      "flex_flow": null,
      "grid_area": null,
      "grid_auto_columns": null,
      "grid_auto_flow": null,
      "grid_auto_rows": null,
      "grid_column": null,
      "grid_gap": null,
      "grid_row": null,
      "grid_template_areas": null,
      "grid_template_columns": null,
      "grid_template_rows": null,
      "height": null,
      "justify_content": null,
      "justify_items": null,
      "left": null,
      "margin": null,
      "max_height": null,
      "max_width": null,
      "min_height": null,
      "min_width": null,
      "object_fit": null,
      "object_position": null,
      "order": null,
      "overflow": null,
      "overflow_x": null,
      "overflow_y": null,
      "padding": null,
      "right": null,
      "top": null,
      "visibility": null,
      "width": null
     }
    },
    "20d25e64ac7149c49911413258e7950d": {
     "model_module": "@jupyter-widgets/controls",
     "model_module_version": "1.5.0",
     "model_name": "CheckboxModel",
     "state": {
      "_dom_classes": [],
      "_model_module": "@jupyter-widgets/controls",
      "_model_module_version": "1.5.0",
      "_model_name": "CheckboxModel",
      "_view_count": null,
      "_view_module": "@jupyter-widgets/controls",
      "_view_module_version": "1.5.0",
      "_view_name": "CheckboxView",
      "description": "Add token as git credential?",
      "description_tooltip": null,
      "disabled": false,
      "indent": true,
      "layout": "IPY_MODEL_6cce5bf57d464d0db2f04e6226eb5c8e",
      "style": "IPY_MODEL_d0ed6e543acc4f2da803a6e001743ac8",
      "value": true
     }
    },
    "2b4a6fa1986b49cc8ce2b08c1ddb6633": {
     "model_module": "@jupyter-widgets/controls",
     "model_module_version": "1.5.0",
     "model_name": "LabelModel",
     "state": {
      "_dom_classes": [],
      "_model_module": "@jupyter-widgets/controls",
      "_model_module_version": "1.5.0",
      "_model_name": "LabelModel",
      "_view_count": null,
      "_view_module": "@jupyter-widgets/controls",
      "_view_module_version": "1.5.0",
      "_view_name": "LabelView",
      "description": "",
      "description_tooltip": null,
      "layout": "IPY_MODEL_e47024d005cc4dfc9a7623764b0912af",
      "placeholder": "​",
      "style": "IPY_MODEL_f082ea5df9b4462c91ca0aba48b6ca56",
      "value": "Connecting..."
     }
    },
    "53fa6972a69549389b3d7dc76b0453a8": {
     "model_module": "@jupyter-widgets/base",
     "model_module_version": "1.2.0",
     "model_name": "LayoutModel",
     "state": {
      "_model_module": "@jupyter-widgets/base",
      "_model_module_version": "1.2.0",
      "_model_name": "LayoutModel",
      "_view_count": null,
      "_view_module": "@jupyter-widgets/base",
      "_view_module_version": "1.2.0",
      "_view_name": "LayoutView",
      "align_content": null,
      "align_items": null,
      "align_self": null,
      "border": null,
      "bottom": null,
      "display": null,
      "flex": null,
      "flex_flow": null,
      "grid_area": null,
      "grid_auto_columns": null,
      "grid_auto_flow": null,
      "grid_auto_rows": null,
      "grid_column": null,
      "grid_gap": null,
      "grid_row": null,
      "grid_template_areas": null,
      "grid_template_columns": null,
      "grid_template_rows": null,
      "height": null,
      "justify_content": null,
      "justify_items": null,
      "left": null,
      "margin": null,
      "max_height": null,
      "max_width": null,
      "min_height": null,
      "min_width": null,
      "object_fit": null,
      "object_position": null,
      "order": null,
      "overflow": null,
      "overflow_x": null,
      "overflow_y": null,
      "padding": null,
      "right": null,
      "top": null,
      "visibility": null,
      "width": null
     }
    },
    "6cc3cb678af4451790ee321a01a0bc10": {
     "model_module": "@jupyter-widgets/controls",
     "model_module_version": "1.5.0",
     "model_name": "VBoxModel",
     "state": {
      "_dom_classes": [],
      "_model_module": "@jupyter-widgets/controls",
      "_model_module_version": "1.5.0",
      "_model_name": "VBoxModel",
      "_view_count": null,
      "_view_module": "@jupyter-widgets/controls",
      "_view_module_version": "1.5.0",
      "_view_name": "VBoxView",
      "box_style": "",
      "children": [],
      "layout": "IPY_MODEL_051957a367924c9b91ea427fa7e2e950"
     }
    },
    "6cce5bf57d464d0db2f04e6226eb5c8e": {
     "model_module": "@jupyter-widgets/base",
     "model_module_version": "1.2.0",
     "model_name": "LayoutModel",
     "state": {
      "_model_module": "@jupyter-widgets/base",
      "_model_module_version": "1.2.0",
      "_model_name": "LayoutModel",
      "_view_count": null,
      "_view_module": "@jupyter-widgets/base",
      "_view_module_version": "1.2.0",
      "_view_name": "LayoutView",
      "align_content": null,
      "align_items": null,
      "align_self": null,
      "border": null,
      "bottom": null,
      "display": null,
      "flex": null,
      "flex_flow": null,
      "grid_area": null,
      "grid_auto_columns": null,
      "grid_auto_flow": null,
      "grid_auto_rows": null,
      "grid_column": null,
      "grid_gap": null,
      "grid_row": null,
      "grid_template_areas": null,
      "grid_template_columns": null,
      "grid_template_rows": null,
      "height": null,
      "justify_content": null,
      "justify_items": null,
      "left": null,
      "margin": null,
      "max_height": null,
      "max_width": null,
      "min_height": null,
      "min_width": null,
      "object_fit": null,
      "object_position": null,
      "order": null,
      "overflow": null,
      "overflow_x": null,
      "overflow_y": null,
      "padding": null,
      "right": null,
      "top": null,
      "visibility": null,
      "width": null
     }
    },
    "7e419cfb59da404f90f6e678ddb0d8d0": {
     "model_module": "@jupyter-widgets/controls",
     "model_module_version": "1.5.0",
     "model_name": "HTMLModel",
     "state": {
      "_dom_classes": [],
      "_model_module": "@jupyter-widgets/controls",
      "_model_module_version": "1.5.0",
      "_model_name": "HTMLModel",
      "_view_count": null,
      "_view_module": "@jupyter-widgets/controls",
      "_view_module_version": "1.5.0",
      "_view_name": "HTMLView",
      "description": "",
      "description_tooltip": null,
      "layout": "IPY_MODEL_09a14e36257443cbbf51de87477eb798",
      "placeholder": "​",
      "style": "IPY_MODEL_fa8c7d1b10a84a5da93d2a599bb31cc7",
      "value": "<center> <img\nsrc=https://huggingface.co/front/assets/huggingface_logo-noborder.svg\nalt='Hugging Face'> <br> Copy a token from <a\nhref=\"https://huggingface.co/settings/tokens\" target=\"_blank\">your Hugging Face\ntokens page</a> and paste it below. <br> Immediately click login after copying\nyour token or it might be stored in plain text in this notebook file. </center>"
     }
    },
    "869d2682f81c4770b250d77223a35008": {
     "model_module": "@jupyter-widgets/controls",
     "model_module_version": "1.5.0",
     "model_name": "PasswordModel",
     "state": {
      "_dom_classes": [],
      "_model_module": "@jupyter-widgets/controls",
      "_model_module_version": "1.5.0",
      "_model_name": "PasswordModel",
      "_view_count": null,
      "_view_module": "@jupyter-widgets/controls",
      "_view_module_version": "1.5.0",
      "_view_name": "PasswordView",
      "continuous_update": true,
      "description": "Token:",
      "description_tooltip": null,
      "disabled": false,
      "layout": "IPY_MODEL_183c3ffde9194827ab84fc2ca2a3ed43",
      "placeholder": "​",
      "style": "IPY_MODEL_bd7f875e47784bae9ee1d14fc6f2862c",
      "value": ""
     }
    },
    "afc3c103240f416e91d6310075cc8ebc": {
     "model_module": "@jupyter-widgets/controls",
     "model_module_version": "1.5.0",
     "model_name": "DescriptionStyleModel",
     "state": {
      "_model_module": "@jupyter-widgets/controls",
      "_model_module_version": "1.5.0",
      "_model_name": "DescriptionStyleModel",
      "_view_count": null,
      "_view_module": "@jupyter-widgets/base",
      "_view_module_version": "1.2.0",
      "_view_name": "StyleView",
      "description_width": ""
     }
    },
    "bd7f875e47784bae9ee1d14fc6f2862c": {
     "model_module": "@jupyter-widgets/controls",
     "model_module_version": "1.5.0",
     "model_name": "DescriptionStyleModel",
     "state": {
      "_model_module": "@jupyter-widgets/controls",
      "_model_module_version": "1.5.0",
      "_model_name": "DescriptionStyleModel",
      "_view_count": null,
      "_view_module": "@jupyter-widgets/base",
      "_view_module_version": "1.2.0",
      "_view_name": "StyleView",
      "description_width": ""
     }
    },
    "cb198904c2fe444292e8d71a392fb1a3": {
     "model_module": "@jupyter-widgets/base",
     "model_module_version": "1.2.0",
     "model_name": "LayoutModel",
     "state": {
      "_model_module": "@jupyter-widgets/base",
      "_model_module_version": "1.2.0",
      "_model_name": "LayoutModel",
      "_view_count": null,
      "_view_module": "@jupyter-widgets/base",
      "_view_module_version": "1.2.0",
      "_view_name": "LayoutView",
      "align_content": null,
      "align_items": null,
      "align_self": null,
      "border": null,
      "bottom": null,
      "display": null,
      "flex": null,
      "flex_flow": null,
      "grid_area": null,
      "grid_auto_columns": null,
      "grid_auto_flow": null,
      "grid_auto_rows": null,
      "grid_column": null,
      "grid_gap": null,
      "grid_row": null,
      "grid_template_areas": null,
      "grid_template_columns": null,
      "grid_template_rows": null,
      "height": null,
      "justify_content": null,
      "justify_items": null,
      "left": null,
      "margin": null,
      "max_height": null,
      "max_width": null,
      "min_height": null,
      "min_width": null,
      "object_fit": null,
      "object_position": null,
      "order": null,
      "overflow": null,
      "overflow_x": null,
      "overflow_y": null,
      "padding": null,
      "right": null,
      "top": null,
      "visibility": null,
      "width": null
     }
    },
    "d0ed6e543acc4f2da803a6e001743ac8": {
     "model_module": "@jupyter-widgets/controls",
     "model_module_version": "1.5.0",
     "model_name": "DescriptionStyleModel",
     "state": {
      "_model_module": "@jupyter-widgets/controls",
      "_model_module_version": "1.5.0",
      "_model_name": "DescriptionStyleModel",
      "_view_count": null,
      "_view_module": "@jupyter-widgets/base",
      "_view_module_version": "1.2.0",
      "_view_name": "StyleView",
      "description_width": ""
     }
    },
    "d34a0144f8ee4e06aab10497ea6b1ce2": {
     "model_module": "@jupyter-widgets/controls",
     "model_module_version": "1.5.0",
     "model_name": "ButtonStyleModel",
     "state": {
      "_model_module": "@jupyter-widgets/controls",
      "_model_module_version": "1.5.0",
      "_model_name": "ButtonStyleModel",
      "_view_count": null,
      "_view_module": "@jupyter-widgets/base",
      "_view_module_version": "1.2.0",
      "_view_name": "StyleView",
      "button_color": null,
      "font_weight": ""
     }
    },
    "daab030521cd433c9dd035f742221b12": {
     "model_module": "@jupyter-widgets/controls",
     "model_module_version": "1.5.0",
     "model_name": "HTMLModel",
     "state": {
      "_dom_classes": [],
      "_model_module": "@jupyter-widgets/controls",
      "_model_module_version": "1.5.0",
      "_model_name": "HTMLModel",
      "_view_count": null,
      "_view_module": "@jupyter-widgets/controls",
      "_view_module_version": "1.5.0",
      "_view_name": "HTMLView",
      "description": "",
      "description_tooltip": null,
      "layout": "IPY_MODEL_53fa6972a69549389b3d7dc76b0453a8",
      "placeholder": "​",
      "style": "IPY_MODEL_afc3c103240f416e91d6310075cc8ebc",
      "value": "\n<b>Pro Tip:</b> If you don't already have one, you can create a dedicated\n'notebooks' token with 'write' access, that you can then easily reuse for all\nnotebooks. </center>"
     }
    },
    "e47024d005cc4dfc9a7623764b0912af": {
     "model_module": "@jupyter-widgets/base",
     "model_module_version": "1.2.0",
     "model_name": "LayoutModel",
     "state": {
      "_model_module": "@jupyter-widgets/base",
      "_model_module_version": "1.2.0",
      "_model_name": "LayoutModel",
      "_view_count": null,
      "_view_module": "@jupyter-widgets/base",
      "_view_module_version": "1.2.0",
      "_view_name": "LayoutView",
      "align_content": null,
      "align_items": null,
      "align_self": null,
      "border": null,
      "bottom": null,
      "display": null,
      "flex": null,
      "flex_flow": null,
      "grid_area": null,
      "grid_auto_columns": null,
      "grid_auto_flow": null,
      "grid_auto_rows": null,
      "grid_column": null,
      "grid_gap": null,
      "grid_row": null,
      "grid_template_areas": null,
      "grid_template_columns": null,
      "grid_template_rows": null,
      "height": null,
      "justify_content": null,
      "justify_items": null,
      "left": null,
      "margin": null,
      "max_height": null,
      "max_width": null,
      "min_height": null,
      "min_width": null,
      "object_fit": null,
      "object_position": null,
      "order": null,
      "overflow": null,
      "overflow_x": null,
      "overflow_y": null,
      "padding": null,
      "right": null,
      "top": null,
      "visibility": null,
      "width": null
     }
    },
    "e6e1817219374ee0a8fba015bebdb82e": {
     "model_module": "@jupyter-widgets/controls",
     "model_module_version": "1.5.0",
     "model_name": "ButtonModel",
     "state": {
      "_dom_classes": [],
      "_model_module": "@jupyter-widgets/controls",
      "_model_module_version": "1.5.0",
      "_model_name": "ButtonModel",
      "_view_count": null,
      "_view_module": "@jupyter-widgets/controls",
      "_view_module_version": "1.5.0",
      "_view_name": "ButtonView",
      "button_style": "",
      "description": "Login",
      "disabled": false,
      "icon": "",
      "layout": "IPY_MODEL_cb198904c2fe444292e8d71a392fb1a3",
      "style": "IPY_MODEL_d34a0144f8ee4e06aab10497ea6b1ce2",
      "tooltip": ""
     }
    },
    "f082ea5df9b4462c91ca0aba48b6ca56": {
     "model_module": "@jupyter-widgets/controls",
     "model_module_version": "1.5.0",
     "model_name": "DescriptionStyleModel",
     "state": {
      "_model_module": "@jupyter-widgets/controls",
      "_model_module_version": "1.5.0",
      "_model_name": "DescriptionStyleModel",
      "_view_count": null,
      "_view_module": "@jupyter-widgets/base",
      "_view_module_version": "1.2.0",
      "_view_name": "StyleView",
      "description_width": ""
     }
    },
    "fa8c7d1b10a84a5da93d2a599bb31cc7": {
     "model_module": "@jupyter-widgets/controls",
     "model_module_version": "1.5.0",
     "model_name": "DescriptionStyleModel",
     "state": {
      "_model_module": "@jupyter-widgets/controls",
      "_model_module_version": "1.5.0",
      "_model_name": "DescriptionStyleModel",
      "_view_count": null,
      "_view_module": "@jupyter-widgets/base",
      "_view_module_version": "1.2.0",
      "_view_name": "StyleView",
      "description_width": ""
     }
    }
   }
  }
 },
 "nbformat": 4,
 "nbformat_minor": 0
}
